{
  "nbformat": 4,
  "nbformat_minor": 0,
  "metadata": {
    "colab": {
      "provenance": [],
      "authorship_tag": "ABX9TyOxFHxpq+v5fd5EeUQNEPYq",
      "include_colab_link": true
    },
    "kernelspec": {
      "name": "python3",
      "display_name": "Python 3"
    },
    "language_info": {
      "name": "python"
    }
  },
  "cells": [
    {
      "cell_type": "markdown",
      "metadata": {
        "id": "view-in-github",
        "colab_type": "text"
      },
      "source": [
        "<a href=\"https://colab.research.google.com/github/soumiyavenkatesan/DatascienceTask/blob/main/Task7.ipynb\" target=\"_parent\"><img src=\"https://colab.research.google.com/assets/colab-badge.svg\" alt=\"Open In Colab\"/></a>"
      ]
    },
    {
      "cell_type": "markdown",
      "source": [
        "1.Write a Pandas program to count the number of rows and columns of a DataFrame. Sample Python dictionary data and list labels:\n",
        "exam_data = {'name': ['Anastasia', 'Dima', 'Katherine', 'James', 'Emily', 'Michael', 'Matthew',\n",
        "'Laura', 'Kevin', 'Jonas'],\n",
        "'score': [12.5, 9, 16.5, np.nan, 9, 20, 14.5, np.nan, 8, 19],\n",
        "'attempts': [1, 3, 2, 3, 2, 3, 1, 1, 2, 1],\n",
        "'qualify': ['yes', 'no', 'yes', 'no', 'no', 'yes', 'yes', 'no', 'no', 'yes']}\n",
        "labels = ['a', 'b', 'c', 'd', 'e', 'f', 'g', 'h', 'i', 'j']"
      ],
      "metadata": {
        "id": "n4lJHut7famG"
      }
    },
    {
      "cell_type": "code",
      "source": [
        "\n",
        "import pandas as pd\n",
        "import numpy as np\n",
        "\n",
        "# Sample data\n",
        "exam_data = {\n",
        "    'name': ['Anastasia', 'Dima', 'Katherine', 'James', 'Emily', 'Michael', 'Matthew', 'Laura', 'Kevin', 'Jonas'],\n",
        "    'score': [12.5, 9, 16.5, np.nan, 9, 20, 14.5, np.nan, 8, 19],\n",
        "    'attempts': [1, 3, 2, 3, 2, 3, 1, 1, 2, 1],\n",
        "    'qualify': ['yes', 'no', 'yes', 'no', 'no', 'yes', 'yes', 'no', 'no', 'yes']\n",
        "}\n",
        "\n",
        "labels = ['a', 'b', 'c', 'd', 'e', 'f', 'g', 'h', 'i', 'j']\n",
        "\n",
        "# Create DataFrame\n",
        "df = pd.DataFrame(exam_data, index=labels)\n",
        "\n",
        "# Count rows and columns\n",
        "num_rows, num_cols = df.shape\n",
        "\n",
        "print(f\"Number of rows: {num_rows}\")\n",
        "print(f\"Number of columns: {num_cols}\")"
      ],
      "metadata": {
        "colab": {
          "base_uri": "https://localhost:8080/"
        },
        "id": "3_isa5q0gBKz",
        "outputId": "bc18b399-8ec9-46bb-cac0-9eb4a404d1ea"
      },
      "execution_count": null,
      "outputs": [
        {
          "output_type": "stream",
          "name": "stdout",
          "text": [
            "Number of rows: 10\n",
            "Number of columns: 4\n"
          ]
        }
      ]
    },
    {
      "cell_type": "markdown",
      "source": [
        "2.Write a Pandas program to select the specified columns and rows from a given data frame. Sample Python dictionary data and list labels:\n",
        "Select 'name' and 'score' columns in rows 1, 3, 5, 6 from the following data frame. exam_data = {'name': ['Anastasia', 'Dima', 'Katherine', 'James', 'Emily', 'Michael', 'Matthew',\n",
        "'Laura', 'Kevin', 'Jonas'],\n",
        "'score': [12.5, 9, 16.5, np.nan, 9, 20, 14.5, np.nan, 8, 19],\n",
        "'attempts': [1, 3, 2, 3, 2, 3, 1, 1, 2, 1],\n",
        "'qualify': ['yes', 'no', 'yes', 'no', 'no', 'yes', 'yes', 'no', 'no', 'yes']}\n",
        "labels = ['a', 'b', 'c', 'd', 'e', 'f', 'g', 'h', 'i', 'j']"
      ],
      "metadata": {
        "id": "p4pFESRlgQL7"
      }
    },
    {
      "cell_type": "code",
      "source": [
        "\n",
        "import pandas as pd\n",
        "import numpy as np\n",
        "\n",
        "# Sample data\n",
        "exam_data = {\n",
        "    'name': ['Anastasia', 'Dima', 'Katherine', 'James', 'Emily', 'Michael', 'Matthew', 'Laura', 'Kevin', 'Jonas'],\n",
        "    'score': [12.5, 9, 16.5, np.nan, 9, 20, 14.5, np.nan, 8, 19],\n",
        "    'attempts': [1, 3, 2, 3, 2, 3, 1, 1, 2, 1],\n",
        "    'qualify': ['yes', 'no', 'yes', 'no', 'no', 'yes', 'yes', 'no', 'no', 'yes']\n",
        "}\n",
        "\n",
        "labels = ['a', 'b', 'c', 'd', 'e', 'f', 'g', 'h', 'i', 'j']\n",
        "\n",
        "# Create DataFrame\n",
        "df = pd.DataFrame(exam_data, index=labels)\n",
        "\n",
        "# Select specified columns and rows\n",
        "selected_data = df.loc[['b', 'd', 'f', 'g'], ['name', 'score']]\n",
        "\n",
        "print(selected_data)"
      ],
      "metadata": {
        "colab": {
          "base_uri": "https://localhost:8080/"
        },
        "id": "WCsPTyOagZt1",
        "outputId": "c5e91b8f-dfcf-4d11-99d1-3b751041fa51"
      },
      "execution_count": null,
      "outputs": [
        {
          "output_type": "stream",
          "name": "stdout",
          "text": [
            "      name  score\n",
            "b     Dima    9.0\n",
            "d    James    NaN\n",
            "f  Michael   20.0\n",
            "g  Matthew   14.5\n"
          ]
        }
      ]
    },
    {
      "cell_type": "markdown",
      "source": [
        "3.Perform appending, slicing, addition and deletion of rows with a Pandas DataFrame."
      ],
      "metadata": {
        "id": "rJOSqDxZgknX"
      }
    },
    {
      "cell_type": "code",
      "source": [
        "import pandas as pd\n",
        "\n",
        "# Sample data\n",
        "data = {\n",
        "    'Name': ['Alice', 'Bob', 'Charlie', 'David'],\n",
        "    'Age': [25, 30, 35, 28],\n",
        "    'City': ['New York', 'San Francisco', 'Los Angeles', 'Chicago']\n",
        "}\n",
        "\n",
        "# Create a DataFrame\n",
        "df = pd.DataFrame(data)\n",
        "\n",
        "# Display the original DataFrame\n",
        "print(\"Original DataFrame:\")\n",
        "print(df)\n",
        "\n",
        "# Append a new row\n",
        "new_row = {'Name': 'Eva', 'Age': 22, 'City': 'Miami'}\n",
        "df = df.append(new_row, ignore_index=True)\n",
        "\n",
        "# Display DataFrame after appending\n",
        "print(\"\\nDataFrame after appending a new row:\")\n",
        "print(df)\n",
        "\n",
        "# Slice rows\n",
        "sliced_df = df.loc[1:3]\n",
        "\n",
        "# Display sliced DataFrame\n",
        "print(\"\\nSliced DataFrame:\")\n",
        "print(sliced_df)\n",
        "\n",
        "# Add a new row using loc\n",
        "df.loc[len(df.index)] = ['Frank', 32, 'Seattle']\n",
        "\n",
        "# Display DataFrame after addition using loc\n",
        "print(\"\\nDataFrame after adding a new row using loc:\")\n",
        "print(df)\n",
        "\n",
        "# Delete a row by index\n",
        "df = df.drop(2)\n",
        "\n",
        "# Display DataFrame after deletion\n",
        "print(\"\\nDataFrame after deleting a row:\")\n",
        "print(df)"
      ],
      "metadata": {
        "colab": {
          "base_uri": "https://localhost:8080/"
        },
        "id": "jUe608mQgxiw",
        "outputId": "b7efdf57-b96f-4e86-cb13-9aa92e655272"
      },
      "execution_count": null,
      "outputs": [
        {
          "output_type": "stream",
          "name": "stdout",
          "text": [
            "Original DataFrame:\n",
            "      Name  Age           City\n",
            "0    Alice   25       New York\n",
            "1      Bob   30  San Francisco\n",
            "2  Charlie   35    Los Angeles\n",
            "3    David   28        Chicago\n",
            "\n",
            "DataFrame after appending a new row:\n",
            "      Name  Age           City\n",
            "0    Alice   25       New York\n",
            "1      Bob   30  San Francisco\n",
            "2  Charlie   35    Los Angeles\n",
            "3    David   28        Chicago\n",
            "4      Eva   22          Miami\n",
            "\n",
            "Sliced DataFrame:\n",
            "      Name  Age           City\n",
            "1      Bob   30  San Francisco\n",
            "2  Charlie   35    Los Angeles\n",
            "3    David   28        Chicago\n",
            "\n",
            "DataFrame after adding a new row using loc:\n",
            "      Name  Age           City\n",
            "0    Alice   25       New York\n",
            "1      Bob   30  San Francisco\n",
            "2  Charlie   35    Los Angeles\n",
            "3    David   28        Chicago\n",
            "4      Eva   22          Miami\n",
            "5    Frank   32        Seattle\n",
            "\n",
            "DataFrame after deleting a row:\n",
            "    Name  Age           City\n",
            "0  Alice   25       New York\n",
            "1    Bob   30  San Francisco\n",
            "3  David   28        Chicago\n",
            "4    Eva   22          Miami\n",
            "5  Frank   32        Seattle\n"
          ]
        },
        {
          "output_type": "stream",
          "name": "stderr",
          "text": [
            "<ipython-input-6-75641995aac9>:19: FutureWarning: The frame.append method is deprecated and will be removed from pandas in a future version. Use pandas.concat instead.\n",
            "  df = df.append(new_row, ignore_index=True)\n"
          ]
        }
      ]
    },
    {
      "cell_type": "markdown",
      "source": [
        "4.Write a Pandas program to select all columns, except one given column in a DataFrame."
      ],
      "metadata": {
        "id": "jrWdi3TBhAgJ"
      }
    },
    {
      "cell_type": "code",
      "source": [
        "import pandas as pd\n",
        "\n",
        "# Sample data\n",
        "data = {'col1': [0,1,4,7],'col2': [1,2,5,5],'col3': [2,3,6,8]}\n",
        "\n",
        "# Create a DataFrame\n",
        "df = pd.DataFrame(data)\n",
        "\n",
        "# Display the original DataFrame\n",
        "print(\"Original DataFrame:\")\n",
        "print(df)\n",
        "\n",
        "# Select all columns except 'col2'\n",
        "selected_columns = df.drop('col2', axis=1)\n",
        "\n",
        "# Display DataFrame with selected columns\n",
        "print(\"\\nDataFrame with all columns except 'col2':\")\n",
        "print(selected_columns)"
      ],
      "metadata": {
        "colab": {
          "base_uri": "https://localhost:8080/"
        },
        "id": "bc6GUST_h4CO",
        "outputId": "fc871fc8-c165-4cae-83bf-41e88dc5ac22"
      },
      "execution_count": null,
      "outputs": [
        {
          "output_type": "stream",
          "name": "stdout",
          "text": [
            "Original DataFrame:\n",
            "   col1  col2  col3\n",
            "0     0     1     2\n",
            "1     1     2     3\n",
            "2     4     5     6\n",
            "3     7     5     8\n",
            "\n",
            "DataFrame with all columns except 'col2':\n",
            "   col1  col3\n",
            "0     0     2\n",
            "1     1     3\n",
            "2     4     6\n",
            "3     7     8\n"
          ]
        }
      ]
    },
    {
      "cell_type": "markdown",
      "source": [
        "5.Write a Pandas program to select the rows where the score is missing, i.e. is NaN. Sample Python dictionary data and list labels:\n",
        "exam_data = {'name': ['Anastasia', 'Dima', 'Katherine', 'James', 'Emily', 'Michael', 'Matthew',\n",
        "'Laura', 'Kevin', 'Jonas'],\n",
        "'score': [12.5, 9, 16.5, np.nan, 9, 20, 14.5, np.nan, 8, 19],\n",
        "'attempts': [1, 3, 2, 3, 2, 3, 1, 1, 2, 1],\n",
        "'qualify': ['yes', 'no', 'yes', 'no', 'no', 'yes', 'yes', 'no', 'no', 'yes']}\n",
        "labels = ['a', 'b', 'c', 'd', 'e', 'f', 'g', labels = ['a', 'b', 'c', 'd', 'e', 'f', 'g', 'h', 'i', 'j']"
      ],
      "metadata": {
        "id": "coDDLfdmjPf8"
      }
    },
    {
      "cell_type": "code",
      "source": [
        "import pandas as pd\n",
        "import numpy as np\n",
        "\n",
        "# Sample data\n",
        "exam_data = {\n",
        "    'name': ['Anastasia', 'Dima', 'Katherine', 'James', 'Emily', 'Michael', 'Matthew', 'Laura', 'Kevin', 'Jonas'],\n",
        "    'score': [12.5, 9, 16.5, np.nan, 9, 20, 14.5, np.nan, 8, 19],\n",
        "    'attempts': [1, 3, 2, 3, 2, 3, 1, 1, 2, 1],\n",
        "    'qualify': ['yes', 'no', 'yes', 'no', 'no', 'yes', 'yes', 'no', 'no', 'yes']\n",
        "}\n",
        "\n",
        "labels = ['a', 'b', 'c', 'd', 'e', 'f', 'g', 'h', 'i', 'j']\n",
        "\n",
        "# Create DataFrame\n",
        "df = pd.DataFrame(exam_data, index=labels)\n",
        "\n",
        "# Select rows where 'score' is missing\n",
        "missing_score_rows = df[df['score'].isna()]\n",
        "\n",
        "# Display DataFrame with selected rows\n",
        "print(\"Rows where the score is missing (NaN):\")\n",
        "print(missing_score_rows)"
      ],
      "metadata": {
        "colab": {
          "base_uri": "https://localhost:8080/"
        },
        "id": "hcTJulbZjekk",
        "outputId": "3f2cebb7-d481-477a-df92-34de4cea6a8b"
      },
      "execution_count": null,
      "outputs": [
        {
          "output_type": "stream",
          "name": "stdout",
          "text": [
            "Rows where the score is missing (NaN):\n",
            "    name  score  attempts qualify\n",
            "d  James    NaN         3      no\n",
            "h  Laura    NaN         1      no\n"
          ]
        }
      ]
    },
    {
      "cell_type": "markdown",
      "source": [
        "6.i.Using Pandas, Create a DataFrame with a list of dictionaries, row indices, and column\n",
        "indices"
      ],
      "metadata": {
        "id": "cZQ_hDNjjqkj"
      }
    },
    {
      "cell_type": "code",
      "source": [
        "\n",
        "import pandas as pd\n",
        "\n",
        "# Sample data\n",
        "data_list = [\n",
        "    {'Name': 'Alice', 'Age': 25, 'City': 'New York'},\n",
        "    {'Name': 'Bob', 'Age': 30, 'City': 'San Francisco'},\n",
        "    {'Name': 'Charlie', 'Age': 35, 'City': 'Los Angeles'}\n",
        "]\n",
        "\n",
        "# Row indices\n",
        "row_indices = ['a', 'b', 'c']\n",
        "\n",
        "# Column indices\n",
        "column_indices = ['Name', 'Age', 'City']\n",
        "\n",
        "# Create DataFrame\n",
        "df = pd.DataFrame(data_list, index=row_indices, columns=column_indices)\n",
        "\n",
        "# Display the created DataFrame\n",
        "print(df)"
      ],
      "metadata": {
        "colab": {
          "base_uri": "https://localhost:8080/"
        },
        "id": "5MebiQuTj0NM",
        "outputId": "4acb2a32-4e85-4016-cc5c-849e6055ce6a"
      },
      "execution_count": null,
      "outputs": [
        {
          "output_type": "stream",
          "name": "stdout",
          "text": [
            "      Name  Age           City\n",
            "a    Alice   25       New York\n",
            "b      Bob   30  San Francisco\n",
            "c  Charlie   35    Los Angeles\n"
          ]
        }
      ]
    },
    {
      "cell_type": "markdown",
      "source": [
        "6.ii. Use index label to delete or drop rows from a Pandas DataFrame"
      ],
      "metadata": {
        "id": "USNrKew6j9gQ"
      }
    },
    {
      "cell_type": "code",
      "source": [
        "import pandas as pd\n",
        "\n",
        "# Sample data\n",
        "data = {\n",
        "    'Name': ['Alice', 'Bob', 'Charlie'],\n",
        "    'Age': [25, 30, 35],\n",
        "    'City': ['New York', 'San Francisco', 'Los Angeles']\n",
        "}\n",
        "\n",
        "# Row indices\n",
        "row_indices = ['a', 'b', 'c']\n",
        "\n",
        "# Create DataFrame\n",
        "df = pd.DataFrame(data, index=row_indices)\n",
        "\n",
        "# Display the original DataFrame\n",
        "print(\"Original DataFrame:\")\n",
        "print(df)\n",
        "\n",
        "# Drop a row using index label 'b'\n",
        "df = df.drop('b')\n",
        "\n",
        "# Display DataFrame after dropping a row\n",
        "print(\"\\nDataFrame after dropping row with index 'b':\")\n",
        "print(df)"
      ],
      "metadata": {
        "colab": {
          "base_uri": "https://localhost:8080/"
        },
        "id": "U31aFxhIkK65",
        "outputId": "cebae559-e9e6-4f06-ce01-4b9b8b8cd17d"
      },
      "execution_count": null,
      "outputs": [
        {
          "output_type": "stream",
          "name": "stdout",
          "text": [
            "Original DataFrame:\n",
            "      Name  Age           City\n",
            "a    Alice   25       New York\n",
            "b      Bob   30  San Francisco\n",
            "c  Charlie   35    Los Angeles\n",
            "\n",
            "DataFrame after dropping row with index 'b':\n",
            "      Name  Age         City\n",
            "a    Alice   25     New York\n",
            "c  Charlie   35  Los Angeles\n"
          ]
        }
      ]
    }
  ]
}