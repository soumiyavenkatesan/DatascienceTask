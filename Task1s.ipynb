{
  "nbformat": 4,
  "nbformat_minor": 0,
  "metadata": {
    "colab": {
      "provenance": [],
      "authorship_tag": "ABX9TyNtJWgSp2+bF9Ao30uqgn7L",
      "include_colab_link": true
    },
    "kernelspec": {
      "name": "python3",
      "display_name": "Python 3"
    },
    "language_info": {
      "name": "python"
    }
  },
  "cells": [
    {
      "cell_type": "markdown",
      "metadata": {
        "id": "view-in-github",
        "colab_type": "text"
      },
      "source": [
        "<a href=\"https://colab.research.google.com/github/soumiyavenkatesan/DatascienceTask/blob/main/Task1s.ipynb\" target=\"_parent\"><img src=\"https://colab.research.google.com/assets/colab-badge.svg\" alt=\"Open In Colab\"/></a>"
      ]
    },
    {
      "cell_type": "markdown",
      "source": [
        "**TASK 1**"
      ],
      "metadata": {
        "id": "Sz4jRYXWkkIe"
      }
    },
    {
      "cell_type": "markdown",
      "source": [
        "**creating a array**"
      ],
      "metadata": {
        "id": "WsHnB0sJyIIm"
      }
    },
    {
      "cell_type": "code",
      "source": [
        "import numpy as np\n",
        "a=np.array([1,2,3,4])  #creating a new array\n",
        "print(a)\n",
        "print(type(a))"
      ],
      "metadata": {
        "colab": {
          "base_uri": "https://localhost:8080/"
        },
        "id": "h_TjlT-884Q3",
        "outputId": "a6e1397a-d322-4bcc-c216-cb3211c35607"
      },
      "execution_count": null,
      "outputs": [
        {
          "output_type": "stream",
          "name": "stdout",
          "text": [
            "[1 2 3 4]\n",
            "<class 'numpy.ndarray'>\n"
          ]
        }
      ]
    },
    {
      "cell_type": "markdown",
      "source": [
        "**printing the dimension of the array**"
      ],
      "metadata": {
        "id": "xMBGg4Utkz0G"
      }
    },
    {
      "cell_type": "code",
      "source": [
        "import numpy as np #print the dimension\n",
        "a=np.array(42)\n",
        "b=np.array([1,2,3])\n",
        "c=np.array([[[1,2,3],[4,5,6]],[[3,2,1],[4,5,7]]])\n",
        "print(b.ndim)"
      ],
      "metadata": {
        "colab": {
          "base_uri": "https://localhost:8080/"
        },
        "id": "bFN7uHuK9Qos",
        "outputId": "721b12ed-1568-49c1-8206-7cf983da24f5"
      },
      "execution_count": null,
      "outputs": [
        {
          "output_type": "stream",
          "name": "stdout",
          "text": [
            "1\n"
          ]
        }
      ]
    },
    {
      "cell_type": "markdown",
      "source": [
        "**slicing the array**"
      ],
      "metadata": {
        "id": "1E3KPCJtlBj8"
      }
    },
    {
      "cell_type": "code",
      "source": [
        "import numpy as np      #split the array\n",
        "c=np.array([[[1,2,3],[4,5,6]],[[3,2,1],[4,5,7]]])\n",
        "print(c[1,1])\n",
        "a=np.array([[1,2,3],[4,5,6],[3,2,1],[4,5,7]])\n",
        "print(a[1,1])"
      ],
      "metadata": {
        "colab": {
          "base_uri": "https://localhost:8080/"
        },
        "id": "8hz25dJL9TX5",
        "outputId": "2c247ad6-9cb4-4d36-a750-2af9501dc3a3"
      },
      "execution_count": null,
      "outputs": [
        {
          "output_type": "stream",
          "name": "stdout",
          "text": [
            "[4 5 7]\n",
            "5\n"
          ]
        }
      ]
    },
    {
      "cell_type": "markdown",
      "source": [
        "**sorting**"
      ],
      "metadata": {
        "id": "ly0Wb0ZOlK2-"
      }
    },
    {
      "cell_type": "code",
      "source": [
        "import numpy as np\n",
        "a=np.array([1,2,3]) #sort the array\n",
        "print(a[2])"
      ],
      "metadata": {
        "colab": {
          "base_uri": "https://localhost:8080/"
        },
        "id": "iQ5fIguQ9x_A",
        "outputId": "274e505b-8b09-49fa-edb6-b4dbdbf9e6eb"
      },
      "execution_count": null,
      "outputs": [
        {
          "output_type": "stream",
          "name": "stdout",
          "text": [
            "3\n"
          ]
        }
      ]
    },
    {
      "cell_type": "code",
      "source": [
        "import numpy as np\n",
        "b=np.array([1,2,3,4,5,6])\n",
        "print(b[1:5])"
      ],
      "metadata": {
        "colab": {
          "base_uri": "https://localhost:8080/"
        },
        "id": "DE6TbiKQ9zNU",
        "outputId": "2f536b8d-263b-4998-b931-85665834e485"
      },
      "execution_count": null,
      "outputs": [
        {
          "output_type": "stream",
          "name": "stdout",
          "text": [
            "[2 3 4 5]\n"
          ]
        }
      ]
    },
    {
      "cell_type": "code",
      "source": [
        "# Python program to demonstrate\n",
        "# indexing in numpy array\n",
        "import numpy as np\n",
        "\n",
        "# Initial Array\n",
        "a= np.array([[-1, 2, 0, 4],\n",
        "                [4, -0.5, 6, 0],\n",
        "                [2.6, 0, 7, 8],\n",
        "                [3, -7, 4, 2.0]])\n",
        "print(\"Initial Array: \")\n",
        "print(a)\n",
        "\n",
        "# Printing a range of Array\n",
        "# with the use of slicing method\n",
        "sliced_a = a[:2, ::2]\n",
        "print (\"Array with first 2 rows and\"\n",
        "    \" alternate columns(0 and 2):\\n\", sliced_a)\n",
        "\n",
        "# Printing elements at\n",
        "# specific Indices\n",
        "Index_a = a[[1, 1, 0, 3],\n",
        "                [3, 2, 1, 0]]\n",
        "print (\"\\nElements at indices (1, 3), \"\n",
        "    \"(1, 2), (0, 1), (3, 0):\\n\", Index_a)"
      ],
      "metadata": {
        "colab": {
          "base_uri": "https://localhost:8080/"
        },
        "id": "ieiwvCpm96jT",
        "outputId": "231fadd3-35b7-48ce-d44c-e6c3688a5845"
      },
      "execution_count": null,
      "outputs": [
        {
          "output_type": "stream",
          "name": "stdout",
          "text": [
            "Initial Array: \n",
            "[[-1.   2.   0.   4. ]\n",
            " [ 4.  -0.5  6.   0. ]\n",
            " [ 2.6  0.   7.   8. ]\n",
            " [ 3.  -7.   4.   2. ]]\n",
            "Array with first 2 rows and alternate columns(0 and 2):\n",
            " [[-1.  0.]\n",
            " [ 4.  6.]]\n",
            "\n",
            "Elements at indices (1, 3), (1, 2), (0, 1), (3, 0):\n",
            " [0. 6. 2. 3.]\n"
          ]
        }
      ]
    },
    {
      "cell_type": "code",
      "source": [
        "# Python program to demonstrate\n",
        "# basic operations on single array\n",
        "import numpy as np\n",
        "\n",
        "# Defining Array 1\n",
        "a = np.array([[1, 2],\n",
        "              [3, 4]])\n",
        "\n",
        "# Defining Array 2\n",
        "b = np.array([[4, 3],\n",
        "              [2, 1]])\n",
        "\n",
        "# Adding 1 to every element\n",
        "print (\"Adding 1 to every element:\", a + 1)\n",
        "\n",
        "# Subtracting 2 from each element\n",
        "print (\"\\nSubtracting 2 from each element:\", b - 2)\n",
        "\n",
        "# sum of array elements\n",
        "# Performing Unary operations\n",
        "print (\"\\nSum of all array \"\n",
        "       \"elements: \", a.sum())\n",
        "\n",
        "# Adding two arrays\n",
        "# Performing Binary operations\n",
        "print (\"\\nArray sum:\\n\", a + b)"
      ],
      "metadata": {
        "colab": {
          "base_uri": "https://localhost:8080/"
        },
        "id": "DvIgcYFI-BcS",
        "outputId": "bb24486d-3055-421a-feb4-900d5221e753"
      },
      "execution_count": null,
      "outputs": [
        {
          "output_type": "stream",
          "name": "stdout",
          "text": [
            "Adding 1 to every element: [[2 3]\n",
            " [4 5]]\n",
            "\n",
            "Subtracting 2 from each element: [[ 2  1]\n",
            " [ 0 -1]]\n",
            "\n",
            "Sum of all array elements:  10\n",
            "\n",
            "Array sum:\n",
            " [[5 5]\n",
            " [5 5]]\n"
          ]
        }
      ]
    },
    {
      "cell_type": "code",
      "source": [
        "# Python Program to create\n",
        "# a data type object\n",
        "import numpy as np\n",
        "\n",
        "# Integer datatype\n",
        "# guessed by Numpy\n",
        "x = np.array([1, 2])\n",
        "print(\"Integer Datatype: \")\n",
        "print(x.dtype)\n",
        "\n",
        "# Float datatype\n",
        "# guessed by Numpy\n",
        "x = np.array([1.0, 2.0])\n",
        "print(\"\\nFloat Datatype: \")\n",
        "print(x.dtype)\n",
        "\n",
        "# Forced Datatype\n",
        "x = np.array([1, 2], dtype = np.int64)\n",
        "print(\"\\nForcing a Datatype: \")\n",
        "print(x.dtype)"
      ],
      "metadata": {
        "colab": {
          "base_uri": "https://localhost:8080/"
        },
        "id": "O_tI2GFR-Fju",
        "outputId": "42b9f538-7748-4a0e-c69c-3de9c6bda2dd"
      },
      "execution_count": null,
      "outputs": [
        {
          "output_type": "stream",
          "name": "stdout",
          "text": [
            "Integer Datatype: \n",
            "int64\n",
            "\n",
            "Float Datatype: \n",
            "float64\n",
            "\n",
            "Forcing a Datatype: \n",
            "int64\n"
          ]
        }
      ]
    },
    {
      "cell_type": "code",
      "source": [
        "import numpy as np\n",
        "\n",
        "# First Array\n",
        "a = np.array([[4, 7], [2, 6]],\n",
        "                 dtype = np.float64)\n",
        "\n",
        "# Second Array\n",
        "b = np.array([[3, 6], [2, 8]],\n",
        "                 dtype = np.float64)\n",
        "\n",
        "# Addition of two Arrays\n",
        "Sum = np.add(a, b)\n",
        "print(\"Addition of Two Arrays: \")\n",
        "print(Sum)\n",
        "\n",
        "# Addition of all Array elements\n",
        "# using predefined sum method\n",
        "Sum1 = np.sum(a)\n",
        "print(\"\\nAddition of Array elements: \")\n",
        "print(Sum1)\n",
        "\n",
        "# Square root of Array\n",
        "Sqrt = np.sqrt(a)\n",
        "print(\"\\nSquare root of Array1 elements: \")\n",
        "print(Sqrt)\n",
        "\n",
        "# Transpose of Array\n",
        "# using In-built function 'T'\n",
        "Trans_arr = a.T\n",
        "print(\"\\nTranspose of Array: \")\n",
        "print(Trans_arr)"
      ],
      "metadata": {
        "colab": {
          "base_uri": "https://localhost:8080/"
        },
        "id": "xvqQM46X-PKI",
        "outputId": "5e8b9779-628e-4ba4-fff2-f9452fbb5c5a"
      },
      "execution_count": null,
      "outputs": [
        {
          "output_type": "stream",
          "name": "stdout",
          "text": [
            "Addition of Two Arrays: \n",
            "[[ 7. 13.]\n",
            " [ 4. 14.]]\n",
            "\n",
            "Addition of Array elements: \n",
            "19.0\n",
            "\n",
            "Square root of Array1 elements: \n",
            "[[2.         2.64575131]\n",
            " [1.41421356 2.44948974]]\n",
            "\n",
            "Transpose of Array: \n",
            "[[4. 2.]\n",
            " [7. 6.]]\n"
          ]
        }
      ]
    },
    {
      "cell_type": "code",
      "source": [
        "import numpy as np\n",
        "in_num1 = 10\n",
        "in_num2 = 11\n",
        "\n",
        "print (\"Input  number1 : \", in_num1)\n",
        "print (\"Input  number2 : \", in_num2)\n",
        "\n",
        "out_num = np.bitwise_and(in_num1, in_num2)\n",
        "print (\"bitwise_and of 10 and 11 : \", out_num)"
      ],
      "metadata": {
        "colab": {
          "base_uri": "https://localhost:8080/"
        },
        "id": "7_fULvTc-Upn",
        "outputId": "a9399b4d-cb07-4d57-fadb-31a644ab8cda"
      },
      "execution_count": null,
      "outputs": [
        {
          "output_type": "stream",
          "name": "stdout",
          "text": [
            "Input  number1 :  10\n",
            "Input  number2 :  11\n",
            "bitwise_and of 10 and 11 :  10\n"
          ]
        }
      ]
    },
    {
      "cell_type": "code",
      "source": [
        "import numpy as np\n",
        "\n",
        "in_arr1 = [2, 8, 125]\n",
        "in_arr2 = [3, 3, 115]\n",
        "\n",
        "print (\"Input array1 : \", in_arr1)\n",
        "print (\"Input array2 : \", in_arr2)\n",
        "\n",
        "out_arr = np.bitwise_and(in_arr1, in_arr2)\n",
        "print (\"Output array after bitwise_and: \", out_arr)"
      ],
      "metadata": {
        "colab": {
          "base_uri": "https://localhost:8080/"
        },
        "id": "mP8WvRZ--YKi",
        "outputId": "67323c9b-2fc8-41da-b0dd-ad2066cb3f1f"
      },
      "execution_count": null,
      "outputs": [
        {
          "output_type": "stream",
          "name": "stdout",
          "text": [
            "Input array1 :  [2, 8, 125]\n",
            "Input array2 :  [3, 3, 115]\n",
            "Output array after bitwise_and:  [  2   0 113]\n"
          ]
        }
      ]
    },
    {
      "cell_type": "code",
      "source": [
        "# Python program explaining\n",
        "# invert() function\n",
        "\n",
        "import numpy as geek\n",
        "in_num = 10\n",
        "print (\"Input  number : \", in_num)\n",
        "\n",
        "out_num = geek.invert(in_num)\n",
        "print (\"inversion of 10 : \", out_num)"
      ],
      "metadata": {
        "colab": {
          "base_uri": "https://localhost:8080/"
        },
        "id": "EJUDSqQQ-gOc",
        "outputId": "f34a7176-81f7-4acb-8031-cf635a84ba04"
      },
      "execution_count": null,
      "outputs": [
        {
          "output_type": "stream",
          "name": "stdout",
          "text": [
            "Input  number :  10\n",
            "inversion of 10 :  -11\n"
          ]
        }
      ]
    },
    {
      "cell_type": "code",
      "source": [
        "import numpy as np\n",
        "\n",
        "arr = np.array([41, 42, 43, 44])\n",
        "\n",
        "# Create an empty list\n",
        "filter_arr = []\n",
        "\n",
        "# go through each element in arr\n",
        "for element in arr:\n",
        "  # if the element is higher than 42, set the value to True, otherwise False:\n",
        "  if element > 42:\n",
        "    filter_arr.append(True)\n",
        "  else:\n",
        "    filter_arr.append(False)\n",
        "\n",
        "newarr = arr[filter_arr]\n",
        "\n",
        "print(filter_arr)\n",
        "print(newarr)"
      ],
      "metadata": {
        "colab": {
          "base_uri": "https://localhost:8080/"
        },
        "id": "XtMMNjVG-hZD",
        "outputId": "0ba5b75c-1a63-4d39-cb68-778650a716ed"
      },
      "execution_count": null,
      "outputs": [
        {
          "output_type": "stream",
          "name": "stdout",
          "text": [
            "[False, False, True, True]\n",
            "[43 44]\n"
          ]
        }
      ]
    },
    {
      "cell_type": "code",
      "source": [
        "import numpy as np\n",
        "#filtering the array\n",
        "arr = np.array([1, 2, 3, 4, 5, 6, 7])\n",
        "\n",
        "filter_arr = arr % 2 == 0\n",
        "\n",
        "newarr = arr[filter_arr]\n",
        "\n",
        "print(filter_arr)\n",
        "print(newarr)"
      ],
      "metadata": {
        "colab": {
          "base_uri": "https://localhost:8080/"
        },
        "id": "7sDmiIzI-pEU",
        "outputId": "c374919d-e0ce-4d6f-9f9e-6cda3aa11296"
      },
      "execution_count": null,
      "outputs": [
        {
          "output_type": "stream",
          "name": "stdout",
          "text": [
            "[False  True False  True False  True False]\n",
            "[2 4 6]\n"
          ]
        }
      ]
    },
    {
      "cell_type": "code",
      "source": [
        "import numpy as np\n",
        "\n",
        "arr = np.array([1, 2, 3, 4, 5, 6, 7, 8])\n",
        "\n",
        "x = np.where(arr%2 == 0)\n",
        "#print the even numbers\n",
        "print(x)"
      ],
      "metadata": {
        "colab": {
          "base_uri": "https://localhost:8080/"
        },
        "id": "LbJjLCsX-1Ux",
        "outputId": "c5263a23-ee75-489f-c139-fa05d1e0b418"
      },
      "execution_count": null,
      "outputs": [
        {
          "output_type": "stream",
          "name": "stdout",
          "text": [
            "(array([1, 3, 5, 7]),)\n"
          ]
        }
      ]
    },
    {
      "cell_type": "code",
      "source": [
        "import numpy as np\n",
        "\n",
        "arr = np.array([1, 2, 3, 4, 5, 6, 7, 8, 9, 10, 11, 12])\n",
        "\n",
        "newarr = arr.reshape(2, 3, 2)\n",
        "#changing the array into matrices\n",
        "print(newarr)"
      ],
      "metadata": {
        "colab": {
          "base_uri": "https://localhost:8080/"
        },
        "id": "9HWkzJeM-4iV",
        "outputId": "334d24a8-daba-4b6f-e650-a717181873f1"
      },
      "execution_count": null,
      "outputs": [
        {
          "output_type": "stream",
          "name": "stdout",
          "text": [
            "[[[ 1  2]\n",
            "  [ 3  4]\n",
            "  [ 5  6]]\n",
            "\n",
            " [[ 7  8]\n",
            "  [ 9 10]\n",
            "  [11 12]]]\n"
          ]
        }
      ]
    },
    {
      "cell_type": "code",
      "source": [
        "import numpy as np\n",
        "\n",
        "arr = np.array([1, 2, 3, 4, 5])\n",
        "x = arr.view()\n",
        "arr[0] = 42\n",
        "#insert the element into the array\n",
        "print(arr)\n",
        "print(x)"
      ],
      "metadata": {
        "colab": {
          "base_uri": "https://localhost:8080/"
        },
        "id": "RNX012Lo-9Gp",
        "outputId": "66545314-70a1-4479-de2c-ab070b40f7f9"
      },
      "execution_count": null,
      "outputs": [
        {
          "output_type": "stream",
          "name": "stdout",
          "text": [
            "[42  2  3  4  5]\n",
            "[42  2  3  4  5]\n"
          ]
        }
      ]
    },
    {
      "cell_type": "code",
      "source": [
        "from numpy import random  #import random\n",
        "import numpy as np\n",
        "\n",
        "arr = np.array([1, 2, 3, 4, 5])\n",
        "\n",
        "random.shuffle(arr)\n",
        "#Shuffling the array\n",
        "print(arr)"
      ],
      "metadata": {
        "id": "XIyWQ9y2ARGx",
        "outputId": "24e60e8a-d027-4e0a-de73-10805e18520f",
        "colab": {
          "base_uri": "https://localhost:8080/"
        }
      },
      "execution_count": null,
      "outputs": [
        {
          "output_type": "stream",
          "name": "stdout",
          "text": [
            "[2 5 4 1 3]\n"
          ]
        }
      ]
    },
    {
      "cell_type": "code",
      "source": [
        "import matplotlib.pyplot as plt\n",
        "import seaborn as sns\n",
        "sns.distplot([0, 1, 2, 3, 4, 5])\n",
        "#print the graph\n",
        "plt.show()"
      ],
      "metadata": {
        "id": "N9U_wHOQATdo",
        "outputId": "629fe317-4ea6-4928-cfa0-91252b763424",
        "colab": {
          "base_uri": "https://localhost:8080/",
          "height": 621
        }
      },
      "execution_count": null,
      "outputs": [
        {
          "output_type": "stream",
          "name": "stderr",
          "text": [
            "<ipython-input-58-65e7c1a72974>:3: UserWarning: \n",
            "\n",
            "`distplot` is a deprecated function and will be removed in seaborn v0.14.0.\n",
            "\n",
            "Please adapt your code to use either `displot` (a figure-level function with\n",
            "similar flexibility) or `histplot` (an axes-level function for histograms).\n",
            "\n",
            "For a guide to updating your code to use the new functions, please see\n",
            "https://gist.github.com/mwaskom/de44147ed2974457ad6372750bbe5751\n",
            "\n",
            "  sns.distplot([0, 1, 2, 3, 4, 5])\n"
          ]
        },
        {
          "output_type": "display_data",
          "data": {
            "text/plain": [
              "<Figure size 640x480 with 1 Axes>"
            ],
            "image/png": "[encoded data removed]"
          },
          "metadata": {}
        }
      ]
    },
    {
      "cell_type": "code",
      "source": [
        "from numpy import random #import random\n",
        "x = random.normal(size=(2, 3)) #print the size\n",
        "print(x)"
      ],
      "metadata": {
        "id": "l2MH2582AV20",
        "outputId": "77f0fec2-eb99-4886-f3c7-dd521dd214dc",
        "colab": {
          "base_uri": "https://localhost:8080/"
        }
      },
      "execution_count": null,
      "outputs": [
        {
          "output_type": "stream",
          "name": "stdout",
          "text": [
            "[[-0.01474307 -1.63306498 -1.31965754]\n",
            " [ 0.12145002  0.03386755  0.19368865]]\n"
          ]
        }
      ]
    },
    {
      "cell_type": "code",
      "source": [
        "from numpy import random\n",
        "x = random.normal(loc=1, scale=2, size=(2, 3))\n",
        "print(x)"
      ],
      "metadata": {
        "id": "quvdzgZTAanm",
        "outputId": "9eaf85a0-906f-468a-a375-c6340ee449b8",
        "colab": {
          "base_uri": "https://localhost:8080/"
        }
      },
      "execution_count": null,
      "outputs": [
        {
          "output_type": "stream",
          "name": "stdout",
          "text": [
            "[[ 1.82407177  0.54652377  3.72360718]\n",
            " [-1.67860084  3.36053318  0.9172327 ]]\n"
          ]
        }
      ]
    },
    {
      "cell_type": "code",
      "source": [
        "from numpy import random\n",
        "\n",
        "x = random.binomial(n=10, p=0.5, size=10)\n",
        "\n",
        "print(x)"
      ],
      "metadata": {
        "id": "uXJnOWjzAdHf",
        "outputId": "585d8df1-7936-4c93-eebd-8a80f0648326",
        "colab": {
          "base_uri": "https://localhost:8080/"
        }
      },
      "execution_count": null,
      "outputs": [
        {
          "output_type": "stream",
          "name": "stdout",
          "text": [
            "[8 4 4 4 4 5 6 5 5 6]\n"
          ]
        }
      ]
    },
    {
      "cell_type": "code",
      "source": [
        "from numpy import random\n",
        "import matplotlib.pyplot as plt\n",
        "import seaborn as sns\n",
        "#using the matplot and seaborn library function\n",
        "sns.distplot(random.binomial(n=10, p=0.5, size=1000), hist=True, kde=False)\n",
        "#print the graph\n",
        "plt.show()"
      ],
      "metadata": {
        "id": "mzrQJtixAiWB",
        "outputId": "0352683f-fcbc-4c26-93fc-b5dab9ca9f53",
        "colab": {
          "base_uri": "https://localhost:8080/",
          "height": 621
        }
      },
      "execution_count": null,
      "outputs": [
        {
          "output_type": "stream",
          "name": "stderr",
          "text": [
            "<ipython-input-62-44129edc786e>:5: UserWarning: \n",
            "\n",
            "`distplot` is a deprecated function and will be removed in seaborn v0.14.0.\n",
            "\n",
            "Please adapt your code to use either `displot` (a figure-level function with\n",
            "similar flexibility) or `histplot` (an axes-level function for histograms).\n",
            "\n",
            "For a guide to updating your code to use the new functions, please see\n",
            "https://gist.github.com/mwaskom/de44147ed2974457ad6372750bbe5751\n",
            "\n",
            "  sns.distplot(random.binomial(n=10, p=0.5, size=1000), hist=True, kde=False)\n"
          ]
        },
        {
          "output_type": "display_data",
          "data": {
            "text/plain": [
              "<Figure size 640x480 with 1 Axes>"
            ],
            "image/png": "[encoded data removed]"
          },
          "metadata": {}
        }
      ]
    },
    {
      "cell_type": "code",
      "source": [
        "from numpy import random\n",
        "#using the poisson function\n",
        "x = random.poisson(lam=2, size=10)\n",
        "print(x)"
      ],
      "metadata": {
        "id": "fEb-wJ3qAkfX",
        "outputId": "aff6ccd0-d9e3-4a23-85a5-d05081cc5a0f",
        "colab": {
          "base_uri": "https://localhost:8080/"
        }
      },
      "execution_count": null,
      "outputs": [
        {
          "output_type": "stream",
          "name": "stdout",
          "text": [
            "[2 4 1 2 1 2 2 1 1 3]\n"
          ]
        }
      ]
    },
    {
      "cell_type": "code",
      "source": [
        "from numpy import random\n",
        "#using the chisquare function\n",
        "x = random.chisquare(df=2, size=(2, 3))\n",
        "print(x)"
      ],
      "metadata": {
        "id": "2i5XEwSVAmRQ",
        "outputId": "5e36dab6-c8fc-49c9-cc3e-577f7535ec48",
        "colab": {
          "base_uri": "https://localhost:8080/"
        }
      },
      "execution_count": null,
      "outputs": [
        {
          "output_type": "stream",
          "name": "stdout",
          "text": [
            "[[4.26939811 1.57917408 0.24656709]\n",
            " [0.11619982 1.95174175 0.30364951]]\n"
          ]
        }
      ]
    },
    {
      "cell_type": "markdown",
      "source": [
        "**creating array**"
      ],
      "metadata": {
        "id": "Khazpgk9lcWm"
      }
    },
    {
      "cell_type": "code",
      "source": [
        "import numpy as np"
      ],
      "metadata": {
        "id": "MAa0HsZKApmC"
      },
      "execution_count": null,
      "outputs": []
    },
    {
      "cell_type": "code",
      "source": [
        "a=np.array([1,3,4])\n",
        "print(a)     #Create an array\n",
        "print(\"--------------------------------\")\n",
        "print(np.zeros(a))    #create an array of zeros\n",
        "print(\"---------------------------------\")\n",
        "print(np.ones(a))      #create an array of ones\n",
        "print(\"---------------------------------\")\n",
        "print(np.arange(5))     #create an array with a reange of values\n",
        "print(\"---------------------------------------\")\n",
        "print(np.arange(2,10,2))\n",
        "print(\"------------------------------------------\")\n",
        "#Create an array with evenly spaced values\n",
        "arr1 = np.linspace(0, 1)\n",
        "print(\"Example 1:\", arr1)\n",
        "\n",
        "arr2 = np.linspace(0, 1, num=10)\n",
        "print(\"Example 2:\", arr2)\n",
        "\n",
        "arr3 = np.linspace(0, 1, num=5, endpoint=False)\n",
        "print(\"Example 3:\", arr3)\n",
        "\n",
        "arr4, step_size = np.linspace(0, 1, num=5, retstep=True)\n",
        "print(\"Example 4 - Array:\", arr4)\n",
        "print(\"Example 4 - Step Size:\", step_size)\n",
        "print(\"------------------------------------------------\")\n",
        "\n",
        "# Example 1: Creating a 3x3 identity matrix\n",
        "identity_matrix_3x3 = np.eye(3)\n",
        "print(\"Example 1:\")\n",
        "print(identity_matrix_3x3)\n",
        "\n",
        "# Example 2: Creating a 4x5 identity matrix\n",
        "identity_matrix_4x5 = np.eye(4, 5)\n",
        "print(\"\\nExample 2:\")\n",
        "print(identity_matrix_4x5)\n",
        "\n",
        "# Example 3: Creating a 3x3 identity matrix with ones on the kth diagonal\n",
        "identity_matrix_k_diagonal = np.eye(3, k=1)\n",
        "print(\"\\nExample 3:\")\n",
        "print(identity_matrix_k_diagonal)\n"
      ],
      "metadata": {
        "id": "7SNG0XvkAtAO",
        "outputId": "b96fbbe0-5882-4ab5-8901-b943975a88f9",
        "colab": {
          "base_uri": "https://localhost:8080/"
        }
      },
      "execution_count": null,
      "outputs": [
        {
          "output_type": "stream",
          "name": "stdout",
          "text": [
            "[1 3 4]\n",
            "--------------------------------\n",
            "[[[0. 0. 0. 0.]\n",
            "  [0. 0. 0. 0.]\n",
            "  [0. 0. 0. 0.]]]\n",
            "---------------------------------\n",
            "[[[1. 1. 1. 1.]\n",
            "  [1. 1. 1. 1.]\n",
            "  [1. 1. 1. 1.]]]\n",
            "---------------------------------\n",
            "[0 1 2 3 4]\n",
            "---------------------------------------\n",
            "[2 4 6 8]\n",
            "------------------------------------------\n",
            "Example 1: [0.         0.02040816 0.04081633 0.06122449 0.08163265 0.10204082\n",
            " 0.12244898 0.14285714 0.16326531 0.18367347 0.20408163 0.2244898\n",
            " 0.24489796 0.26530612 0.28571429 0.30612245 0.32653061 0.34693878\n",
            " 0.36734694 0.3877551  0.40816327 0.42857143 0.44897959 0.46938776\n",
            " 0.48979592 0.51020408 0.53061224 0.55102041 0.57142857 0.59183673\n",
            " 0.6122449  0.63265306 0.65306122 0.67346939 0.69387755 0.71428571\n",
            " 0.73469388 0.75510204 0.7755102  0.79591837 0.81632653 0.83673469\n",
            " 0.85714286 0.87755102 0.89795918 0.91836735 0.93877551 0.95918367\n",
            " 0.97959184 1.        ]\n",
            "Example 2: [0.         0.11111111 0.22222222 0.33333333 0.44444444 0.55555556\n",
            " 0.66666667 0.77777778 0.88888889 1.        ]\n",
            "Example 3: [0.  0.2 0.4 0.6 0.8]\n",
            "Example 4 - Array: [0.   0.25 0.5  0.75 1.  ]\n",
            "Example 4 - Step Size: 0.25\n",
            "------------------------------------------------\n",
            "Example 1:\n",
            "[[1. 0. 0.]\n",
            " [0. 1. 0.]\n",
            " [0. 0. 1.]]\n",
            "\n",
            "Example 2:\n",
            "[[1. 0. 0. 0. 0.]\n",
            " [0. 1. 0. 0. 0.]\n",
            " [0. 0. 1. 0. 0.]\n",
            " [0. 0. 0. 1. 0.]]\n",
            "\n",
            "Example 3:\n",
            "[[0. 1. 0.]\n",
            " [0. 0. 1.]\n",
            " [0. 0. 0.]]\n"
          ]
        }
      ]
    },
    {
      "cell_type": "markdown",
      "source": [
        "**array information**"
      ],
      "metadata": {
        "id": "0ECMA8-xllIm"
      }
    },
    {
      "cell_type": "code",
      "source": [
        "c=np.array([[1,2,3],[4,5,6],[3,2,1],[4,5,7]])\n",
        "print(c.shape)    #Returns the dimensions of the array\n",
        "print(c.ndim)      #Returns the number of dimensions\n",
        "print(c.size)      #Returns the total number of elements\n",
        "print(c.dtype)      #Returns the data type of elements\n",
        "print(\"__________________________________\")\n",
        "\n",
        "c=np.array([[[1,2,3],[4,5,6]],[[3,2,1],[4,5,7]]])\n",
        "print(c.shape)\n",
        "print(c.ndim)\n",
        "print(c.size)\n",
        "print(c.dtype)"
      ],
      "metadata": {
        "id": "M8OYCO7GAwVG",
        "outputId": "68868ace-2b62-4f24-f6cd-ce33000664f0",
        "colab": {
          "base_uri": "https://localhost:8080/"
        }
      },
      "execution_count": null,
      "outputs": [
        {
          "output_type": "stream",
          "name": "stdout",
          "text": [
            "(4, 3)\n",
            "2\n",
            "12\n",
            "int64\n",
            "__________________________________\n",
            "(2, 2, 3)\n",
            "3\n",
            "12\n",
            "int64\n"
          ]
        }
      ]
    },
    {
      "cell_type": "markdown",
      "source": [
        "**array operations**"
      ],
      "metadata": {
        "id": "P7f3D8QOw39Q"
      }
    },
    {
      "cell_type": "code",
      "source": [
        "c=np.array([2,4,6,11])\n",
        "d=np.array([1,5,3,70])\n",
        "print(np.add(c,d))         #element-wise addition\n",
        "print(np.subtract(c,d))    #element-wise subtraction\n",
        "print(np.multiply(c,d))    #element-wise multiplication\n",
        "print(np.divide(c,d))      #Dot product of 2 arrays\n",
        "print(np.dot(c,d))"
      ],
      "metadata": {
        "id": "XUMAcsGVAyiQ",
        "outputId": "ab0dae04-ea1c-41c5-ab28-82d7c82754c2",
        "colab": {
          "base_uri": "https://localhost:8080/"
        }
      },
      "execution_count": null,
      "outputs": [
        {
          "output_type": "stream",
          "name": "stdout",
          "text": [
            "[ 3  9  9 81]\n",
            "[  1  -1   3 -59]\n",
            "[  2  20  18 770]\n",
            "[2.         0.8        2.         0.15714286]\n",
            "810\n"
          ]
        }
      ]
    },
    {
      "cell_type": "markdown",
      "source": [
        "**array manipulation**"
      ],
      "metadata": {
        "id": "k8m8i2Y6xA8B"
      }
    },
    {
      "cell_type": "code",
      "source": [
        "r = np.array([1, 2, 3, 4, 5, 6, 7, 8, 9, 10, 11, 12])\n",
        "q=np.array([3,40,50,70])\n",
        "s=np.reshape(r,(3,4))\n",
        "print(s)\n",
        "print(np.transpose(s))     #transpose the array\n",
        "print(np.concatenate((r,q)))  #concatenate the two array\n",
        "print(np.split(r,3))"
      ],
      "metadata": {
        "id": "gQtzyPB2A1kW",
        "outputId": "ff3b311c-32bc-4b36-f685-6141c3f1c57e",
        "colab": {
          "base_uri": "https://localhost:8080/"
        }
      },
      "execution_count": null,
      "outputs": [
        {
          "output_type": "stream",
          "name": "stdout",
          "text": [
            "[[ 1  2  3  4]\n",
            " [ 5  6  7  8]\n",
            " [ 9 10 11 12]]\n",
            "[[ 1  5  9]\n",
            " [ 2  6 10]\n",
            " [ 3  7 11]\n",
            " [ 4  8 12]]\n",
            "[ 1  2  3  4  5  6  7  8  9 10 11 12  3 40 50 70]\n",
            "[array([1, 2, 3, 4]), array([5, 6, 7, 8]), array([ 9, 10, 11, 12])]\n"
          ]
        }
      ]
    },
    {
      "cell_type": "markdown",
      "source": [
        "**mathematical functions**"
      ],
      "metadata": {
        "id": "5MAUFy5hxH_D"
      }
    },
    {
      "cell_type": "code",
      "source": [
        "r = np.array([1, 2,3, 3, 4, 5, 6, 7, 8, 9, 10, 11, 12])\n",
        "print(np.sum(r))  #adding the elements in the array\n",
        "print(np.mean(r)) #taking mean for the array\n",
        "print(np.median(r))# taking median for the array\n",
        "print(np.std(r))  #taking standard deviation for the array\n",
        "print(np.min(r))  #print the minimum element of the array\n",
        "print(np.max(r))  #print the maximum element of the array"
      ],
      "metadata": {
        "id": "xTSuUmoEA7EL",
        "outputId": "6a37b6ef-0e50-4f4b-a1ba-93da2213a952",
        "colab": {
          "base_uri": "https://localhost:8080/"
        }
      },
      "execution_count": null,
      "outputs": [
        {
          "output_type": "stream",
          "name": "stdout",
          "text": [
            "81\n",
            "6.230769230769231\n",
            "6.0\n",
            "3.445260873316722\n",
            "1\n",
            "12\n"
          ]
        }
      ]
    },
    {
      "cell_type": "markdown",
      "source": [
        "**trignometric functions**"
      ],
      "metadata": {
        "id": "Xsow3q8LxVr0"
      }
    },
    {
      "cell_type": "code",
      "source": [
        "r = np.array([1, 2, 3, 11, 12])\n",
        "print(np.sin(r))    #print the sin value for the element of the array\n",
        "print(np.cos(r))    #print the cos value for the element of the array\n",
        "print(np.tan(r))    #print the tan value for the element of the array\n",
        "print(np.arcsin(r))\n",
        "print(np.arccos(r))\n",
        "print(np.arctan(r))"
      ],
      "metadata": {
        "id": "EdIGtyEnA84y",
        "outputId": "7bd01a56-0528-4d25-8aa7-f0a2ca7a698b",
        "colab": {
          "base_uri": "https://localhost:8080/"
        }
      },
      "execution_count": null,
      "outputs": [
        {
          "output_type": "stream",
          "name": "stdout",
          "text": [
            "[ 0.84147098  0.90929743  0.14112001 -0.99999021 -0.53657292]\n",
            "[ 0.54030231 -0.41614684 -0.9899925   0.0044257   0.84385396]\n",
            "[ 1.55740772e+00 -2.18503986e+00 -1.42546543e-01 -2.25950846e+02\n",
            " -6.35859929e-01]\n",
            "[1.57079633        nan        nan        nan        nan]\n",
            "[ 0. nan nan nan nan]\n",
            "[0.78539816 1.10714872 1.24904577 1.48013644 1.48765509]\n"
          ]
        },
        {
          "output_type": "stream",
          "name": "stderr",
          "text": [
            "<ipython-input-71-715afa0f2095>:5: RuntimeWarning: invalid value encountered in arcsin\n",
            "  print(np.arcsin(r))\n",
            "<ipython-input-71-715afa0f2095>:6: RuntimeWarning: invalid value encountered in arccos\n",
            "  print(np.arccos(r))\n"
          ]
        }
      ]
    },
    {
      "cell_type": "markdown",
      "source": [
        "**random**"
      ],
      "metadata": {
        "id": "yKrjQHIBxa03"
      }
    },
    {
      "cell_type": "code",
      "source": [
        "print(np.random.rand())\n",
        "print(\"Random values in a given shape:\") #print the random values in a given shape\n",
        "random_array = np.random.rand(3, 2)\n",
        "print(random_array)\n",
        "#print the random values from a standard normal distribution\n",
        "print(\"Random values from a standard normal distribution:\")\n",
        "random_array = np.random.randn(3, 2)\n",
        "print(random_array)\n",
        "#print the random integers\n",
        "print(\"Random Integers:\")\n",
        "random_integers = np.random.randint(1, 10, size=(3, 4))\n",
        "print(random_integers)\n",
        "#print the shuffle an array\n",
        "print(\"Shuffle an array:\")\n",
        "a=np.array([1,2,3,5,4])\n",
        "np.random.shuffle(a)\n",
        "print(a)"
      ],
      "metadata": {
        "id": "-hbZy0njA-1G",
        "outputId": "3e384e39-4a3d-4d34-c7bc-2832a32224a7",
        "colab": {
          "base_uri": "https://localhost:8080/"
        }
      },
      "execution_count": null,
      "outputs": [
        {
          "output_type": "stream",
          "name": "stdout",
          "text": [
            "0.6185747888474344\n",
            "Random values in a given shape:\n",
            "[[0.09485478 0.799805  ]\n",
            " [0.51419827 0.44920468]\n",
            " [0.84260865 0.21446764]]\n",
            "Random values from a standard normal distribution:\n",
            "[[ 1.98932047 -1.34926431]\n",
            " [ 2.47858653  1.2505248 ]\n",
            " [-0.30507429  0.1731672 ]]\n",
            "Random Integers:\n",
            "[[2 9 8 8]\n",
            " [2 9 6 3]\n",
            " [9 6 5 9]]\n",
            "Shuffle an array:\n",
            "[1 2 4 5 3]\n"
          ]
        }
      ]
    },
    {
      "cell_type": "markdown",
      "source": [
        "**statistical functions**"
      ],
      "metadata": {
        "id": "5Vdc3tS5xefx"
      }
    },
    {
      "cell_type": "code",
      "source": [
        "# Percentiles are a measure used in statistics to indicate the relative standing of a particular value within a dataset.\n",
        "\n",
        "data = np.array([1, 2, 3, 4, 5, 6, 7, 8, 9, 10])\n",
        "\n",
        "# Compute the 25th and 75th percentiles\n",
        "percentile_25 = np.percentile(data, 25)\n",
        "percentile_75 = np.percentile(data, 75)\n",
        "\n",
        "print(\"25th percentile:\", percentile_25)\n",
        "print(\"75th percentile:\", percentile_75)\n",
        "\n",
        "#This means that 25% of the values in the dataset are less than or equal to 3.25, and 75% of the values are less than or equal to 7.75.\n"
      ],
      "metadata": {
        "id": "WNvpry-WBBVK",
        "outputId": "6da8d073-86be-4389-ff42-da23a9e48565",
        "colab": {
          "base_uri": "https://localhost:8080/"
        }
      },
      "execution_count": null,
      "outputs": [
        {
          "output_type": "stream",
          "name": "stdout",
          "text": [
            "25th percentile: 3.25\n",
            "75th percentile: 7.75\n"
          ]
        }
      ]
    },
    {
      "cell_type": "code",
      "source": [
        "#The numpy.corrcoef() function in Python's NumPy library is used to compute the Pearson correlation coefficient between two or more arrays. The Pearson correlation coefficient is a measure of the linear relationship between two variables. It ranges from -1 to 1, where:\n",
        "\n",
        "#1 indicates a perfect positive linear relationship.\n",
        "#-1 indicates a perfect negative linear relationship.\n",
        "#0 indicates no linear relationship.\n",
        "import numpy as np\n",
        "\n",
        "x = np.array([1, 2, 3, 4, 5])\n",
        "y = np.array([2, 3, 4, 5, 6])\n",
        "\n",
        "# Compute the correlation coefficient\n",
        "correlation_matrix = np.corrcoef(x, y)\n",
        "\n",
        "# The correlation coefficient is in the (0, 1) position of the matrix for two variables\n",
        "correlation_coefficient = correlation_matrix[0, 1]\n",
        "\n",
        "print(\"Correlation Coefficient:\", correlation_coefficient)"
      ],
      "metadata": {
        "id": "hd0dV1r6BEPa",
        "outputId": "186561e1-8814-40cc-a2c6-f074e94bc372",
        "colab": {
          "base_uri": "https://localhost:8080/"
        }
      },
      "execution_count": null,
      "outputs": [
        {
          "output_type": "stream",
          "name": "stdout",
          "text": [
            "Correlation Coefficient: 0.9999999999999999\n"
          ]
        }
      ]
    },
    {
      "cell_type": "markdown",
      "source": [
        "**logical operations**"
      ],
      "metadata": {
        "id": "Xadr6Mx2xmPP"
      }
    },
    {
      "cell_type": "code",
      "source": [
        "arr1 = np.array([True, False, True])\n",
        "arr2 = np.array([False, True, True])\n",
        "\n",
        "# Perform element-wise logical AND\n",
        "result = np.logical_and(arr1, arr2)\n",
        "result1 = np.logical_or(arr1, arr2)\n",
        "result2 = np.logical_not(arr1, arr2)\n",
        "print(result)\n",
        "print(result1)\n",
        "print(result2)"
      ],
      "metadata": {
        "id": "BrZCzCsYBIGc",
        "outputId": "268dfa84-3bdf-4c83-dc0e-1a9777793243",
        "colab": {
          "base_uri": "https://localhost:8080/"
        }
      },
      "execution_count": null,
      "outputs": [
        {
          "output_type": "stream",
          "name": "stdout",
          "text": [
            "[False False  True]\n",
            "[ True  True  True]\n",
            "[False  True False]\n"
          ]
        }
      ]
    },
    {
      "cell_type": "markdown",
      "source": [
        "**linear algebra**"
      ],
      "metadata": {
        "id": "0iUL09j3xtfn"
      }
    },
    {
      "cell_type": "code",
      "source": [
        "A = np.array([[2, 1],\n",
        "              [7, 4]])\n",
        "\n",
        "# Compute the inverse of the matrix\n",
        "A_inv = np.linalg.inv(A)\n",
        "\n",
        "print(\"Original matrix:\")\n",
        "print(A)\n",
        "\n",
        "print(\"\\nInverse matrix:\")\n",
        "print(A_inv)\n",
        "\n",
        "# Verify the inverse property: A.dot(A_inv) should be the identity matrix\n",
        "identity_matrix = A.dot(A_inv)\n",
        "print(\"\\nProduct of A and A_inv (should be the identity matrix):\")\n",
        "print(identity_matrix)"
      ],
      "metadata": {
        "id": "fa5Ntmd2BKku",
        "outputId": "5456204b-a881-40dc-bf68-1454deccd04e",
        "colab": {
          "base_uri": "https://localhost:8080/"
        }
      },
      "execution_count": null,
      "outputs": [
        {
          "output_type": "stream",
          "name": "stdout",
          "text": [
            "Original matrix:\n",
            "[[2 1]\n",
            " [7 4]]\n",
            "\n",
            "Inverse matrix:\n",
            "[[ 4. -1.]\n",
            " [-7.  2.]]\n",
            "\n",
            "Product of A and A_inv (should be the identity matrix):\n",
            "[[1. 0.]\n",
            " [0. 1.]]\n"
          ]
        }
      ]
    },
    {
      "cell_type": "code",
      "source": [
        "A = np.array([[4, 7],\n",
        "              [2, 6]])\n",
        "\n",
        "# Compute the determinant of the matrix\n",
        "det_A = np.linalg.det(A)\n",
        "\n",
        "print(\"Matrix:\")\n",
        "print(A)\n",
        "\n",
        "print(\"\\nDeterminant:\", det_A)"
      ],
      "metadata": {
        "id": "TZiDTcUcBNzU",
        "outputId": "6e5a66cb-46e4-4d15-90fb-54074af65122",
        "colab": {
          "base_uri": "https://localhost:8080/"
        }
      },
      "execution_count": null,
      "outputs": [
        {
          "output_type": "stream",
          "name": "stdout",
          "text": [
            "Matrix:\n",
            "[[4 7]\n",
            " [2 6]]\n",
            "\n",
            "Determinant: 10.000000000000002\n"
          ]
        }
      ]
    },
    {
      "cell_type": "code",
      "source": [
        "A = np.array([[4, -2],\n",
        "              [1,  1]])\n",
        "\n",
        "# Compute the eigenvalues and eigenvectors\n",
        "eigenvalues, eigenvectors = np.linalg.eig(A)\n",
        "\n",
        "print(\"Matrix:\")\n",
        "print(A)\n",
        "\n",
        "print(\"\\nEigenvalues:\")\n",
        "print(eigenvalues)\n",
        "\n",
        "print(\"\\nEigenvectors:\")\n",
        "print(eigenvectors)"
      ],
      "metadata": {
        "id": "SPFGf_q2BQzj",
        "outputId": "e9e5a25d-d024-4678-8c7a-2802d455669a",
        "colab": {
          "base_uri": "https://localhost:8080/"
        }
      },
      "execution_count": null,
      "outputs": [
        {
          "output_type": "stream",
          "name": "stdout",
          "text": [
            "Matrix:\n",
            "[[ 4 -2]\n",
            " [ 1  1]]\n",
            "\n",
            "Eigenvalues:\n",
            "[3. 2.]\n",
            "\n",
            "Eigenvectors:\n",
            "[[0.89442719 0.70710678]\n",
            " [0.4472136  0.70710678]]\n"
          ]
        }
      ]
    },
    {
      "cell_type": "markdown",
      "source": [
        "**sort an array**"
      ],
      "metadata": {
        "id": "B95jutivxzHn"
      }
    },
    {
      "cell_type": "code",
      "source": [
        "arr = np.array([3, 1, 4, 1, 5, 9, 2, 6, 5, 3, 5])\n",
        "\n",
        "# Sort the array\n",
        "sorted_arr = np.sort(arr)\n",
        "\n",
        "print(\"Original array:\", arr)\n",
        "print(\"Sorted array:\", sorted_arr)\n",
        "\n",
        "\n",
        "# Create a 2D array\n",
        "arr_2d = np.array([[3, 1, 4],\n",
        "                   [1, 5, 9],\n",
        "                   [2, 6, 5]])\n",
        "\n",
        "# Sort along the last axis\n",
        "sorted_arr_2d = np.sort(arr_2d, axis=-1)\n",
        "\n",
        "print(\"Original 2D array:\")\n",
        "print(arr_2d)\n",
        "\n",
        "print(\"\\nSorted 2D array along the last axis:\")\n",
        "print(sorted_arr_2d)"
      ],
      "metadata": {
        "id": "rgiZK2mFBUq_",
        "outputId": "2f594ba5-b90d-4d8e-de24-fb21463cec66",
        "colab": {
          "base_uri": "https://localhost:8080/"
        }
      },
      "execution_count": null,
      "outputs": [
        {
          "output_type": "stream",
          "name": "stdout",
          "text": [
            "Original array: [3 1 4 1 5 9 2 6 5 3 5]\n",
            "Sorted array: [1 1 2 3 3 4 5 5 5 6 9]\n",
            "Original 2D array:\n",
            "[[3 1 4]\n",
            " [1 5 9]\n",
            " [2 6 5]]\n",
            "\n",
            "Sorted 2D array along the last axis:\n",
            "[[1 3 4]\n",
            " [1 5 9]\n",
            " [2 5 6]]\n"
          ]
        }
      ]
    },
    {
      "cell_type": "markdown",
      "source": [
        "**save an array to a binary file**"
      ],
      "metadata": {
        "id": "wZOpjAgnx6GL"
      }
    },
    {
      "cell_type": "code",
      "source": [
        "import numpy as np\n",
        "\n",
        "# Create an array\n",
        "arr = np.array([1, 2, 3, 4, 5])\n",
        "\n",
        "# Save the array to a file\n",
        "np.save('saved_array.npy', arr)"
      ],
      "metadata": {
        "id": "1lNPxuM9BYAP"
      },
      "execution_count": null,
      "outputs": []
    },
    {
      "cell_type": "markdown",
      "source": [
        "**load an array from a binary file**"
      ],
      "metadata": {
        "id": "pG8vN7Mqx_qv"
      }
    },
    {
      "cell_type": "code",
      "source": [
        "# Load the saved array\n",
        "loaded_arr = np.load('saved_array.npy')\n",
        "\n",
        "print(\"Loaded array:\", loaded_arr)"
      ],
      "metadata": {
        "id": "VGMTaclHBaIA",
        "outputId": "2301f1ab-09d3-48f3-8b6b-420079b1407a",
        "colab": {
          "base_uri": "https://localhost:8080/"
        }
      },
      "execution_count": null,
      "outputs": [
        {
          "output_type": "stream",
          "name": "stdout",
          "text": [
            "Loaded array: [1 2 3 4 5]\n"
          ]
        }
      ]
    }
  ]
}